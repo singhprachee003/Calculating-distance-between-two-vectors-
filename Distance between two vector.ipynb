{
 "cells": [
  {
   "cell_type": "code",
   "execution_count": 2,
   "metadata": {},
   "outputs": [],
   "source": [
    "#calculate distance between 2 vector using dot()\n",
    "import pandas as pd\n",
    "import numpy as np\n",
    "import os\n",
    "from ast import literal_eval\n",
    "import math"
   ]
  },
  {
   "cell_type": "code",
   "execution_count": 3,
   "metadata": {},
   "outputs": [],
   "source": [
    "df = pd.read_csv(r'C:\\Users\\tanma\\Downloads\\word_vector_sample.csv')"
   ]
  },
  {
   "cell_type": "code",
   "execution_count": 4,
   "metadata": {},
   "outputs": [
    {
     "data": {
      "text/html": [
       "<div>\n",
       "<style scoped>\n",
       "    .dataframe tbody tr th:only-of-type {\n",
       "        vertical-align: middle;\n",
       "    }\n",
       "\n",
       "    .dataframe tbody tr th {\n",
       "        vertical-align: top;\n",
       "    }\n",
       "\n",
       "    .dataframe thead th {\n",
       "        text-align: right;\n",
       "    }\n",
       "</style>\n",
       "<table border=\"1\" class=\"dataframe\">\n",
       "  <thead>\n",
       "    <tr style=\"text-align: right;\">\n",
       "      <th></th>\n",
       "      <th>Word</th>\n",
       "      <th>Vector</th>\n",
       "    </tr>\n",
       "  </thead>\n",
       "  <tbody>\n",
       "    <tr>\n",
       "      <th>0</th>\n",
       "      <td>Prachi</td>\n",
       "      <td>[-0.04776188275452109, -0.021542457218085686, ...</td>\n",
       "    </tr>\n",
       "    <tr>\n",
       "      <th>1</th>\n",
       "      <td>poverty</td>\n",
       "      <td>[0.018470900133252144, -0.019666800275444984, ...</td>\n",
       "    </tr>\n",
       "    <tr>\n",
       "      <th>2</th>\n",
       "      <td>homelessness</td>\n",
       "      <td>[-0.03570999950170517, -0.05203460156917572, -...</td>\n",
       "    </tr>\n",
       "    <tr>\n",
       "      <th>3</th>\n",
       "      <td>hunger</td>\n",
       "      <td>[0.025340700522065163, 0.11668500304222107, -0...</td>\n",
       "    </tr>\n",
       "    <tr>\n",
       "      <th>4</th>\n",
       "      <td>health</td>\n",
       "      <td>[-0.030063699930906296, 0.04568890109658241, 0...</td>\n",
       "    </tr>\n",
       "    <tr>\n",
       "      <th>5</th>\n",
       "      <td>education</td>\n",
       "      <td>[-0.03305809944868088, 0.004298499785363674, -...</td>\n",
       "    </tr>\n",
       "    <tr>\n",
       "      <th>6</th>\n",
       "      <td>water</td>\n",
       "      <td>[-0.05839940160512924, 0.052747901529073715, 0...</td>\n",
       "    </tr>\n",
       "    <tr>\n",
       "      <th>7</th>\n",
       "      <td>economic</td>\n",
       "      <td>[0.019758500158786774, 0.0014329999685287476, ...</td>\n",
       "    </tr>\n",
       "    <tr>\n",
       "      <th>8</th>\n",
       "      <td>clean</td>\n",
       "      <td>[-0.020008599385619164, 0.10695870220661163, 0...</td>\n",
       "    </tr>\n",
       "    <tr>\n",
       "      <th>9</th>\n",
       "      <td>Clean</td>\n",
       "      <td>[-0.030163299292325974, 0.05660970136523247, 0...</td>\n",
       "    </tr>\n",
       "    <tr>\n",
       "      <th>10</th>\n",
       "      <td>Gender</td>\n",
       "      <td>[0.029631299898028374, -0.016763199120759964, ...</td>\n",
       "    </tr>\n",
       "    <tr>\n",
       "      <th>11</th>\n",
       "      <td>gender</td>\n",
       "      <td>[-0.0012820999836549163, -0.011892300099134445...</td>\n",
       "    </tr>\n",
       "  </tbody>\n",
       "</table>\n",
       "</div>"
      ],
      "text/plain": [
       "            Word                                             Vector\n",
       "0         Prachi  [-0.04776188275452109, -0.021542457218085686, ...\n",
       "1        poverty  [0.018470900133252144, -0.019666800275444984, ...\n",
       "2   homelessness  [-0.03570999950170517, -0.05203460156917572, -...\n",
       "3         hunger  [0.025340700522065163, 0.11668500304222107, -0...\n",
       "4         health  [-0.030063699930906296, 0.04568890109658241, 0...\n",
       "5      education  [-0.03305809944868088, 0.004298499785363674, -...\n",
       "6          water  [-0.05839940160512924, 0.052747901529073715, 0...\n",
       "7       economic  [0.019758500158786774, 0.0014329999685287476, ...\n",
       "8          clean  [-0.020008599385619164, 0.10695870220661163, 0...\n",
       "9          Clean  [-0.030163299292325974, 0.05660970136523247, 0...\n",
       "10        Gender  [0.029631299898028374, -0.016763199120759964, ...\n",
       "11        gender  [-0.0012820999836549163, -0.011892300099134445..."
      ]
     },
     "execution_count": 4,
     "metadata": {},
     "output_type": "execute_result"
    }
   ],
   "source": [
    "df"
   ]
  },
  {
   "cell_type": "code",
   "execution_count": 5,
   "metadata": {},
   "outputs": [
    {
     "data": {
      "text/plain": [
       "'Prachi'"
      ]
     },
     "execution_count": 5,
     "metadata": {},
     "output_type": "execute_result"
    }
   ],
   "source": [
    "df.iloc[0][0]"
   ]
  },
  {
   "cell_type": "code",
   "execution_count": 6,
   "metadata": {},
   "outputs": [],
   "source": [
    "# converting string to list in all rows of the dataFrame\n",
    "df['Vector'] = df['Vector'].apply(lambda x: np.array(literal_eval(x)))"
   ]
  },
  {
   "cell_type": "code",
   "execution_count": 7,
   "metadata": {},
   "outputs": [],
   "source": [
    "#calculating distance using basic cosine formula\n",
    "def cosine_function(a1,a2):\n",
    "    suma1 = 0\n",
    "    sumb1 = 0\n",
    "    summain = 0\n",
    "    \n",
    "    for i,j in zip(a1,a2):\n",
    "        suma1+=i*i\n",
    "        sumb1+=j*j\n",
    "        summain+=i*j\n",
    "    \n",
    "    cosinesim = 1-summain/((math.sqrt(suma1))*(math.sqrt(sumb1))) \n",
    "\n",
    "    return cosinesim"
   ]
  },
  {
   "cell_type": "code",
   "execution_count": 8,
   "metadata": {},
   "outputs": [
    {
     "data": {
      "text/plain": [
       "1.0225922471738291"
      ]
     },
     "execution_count": 8,
     "metadata": {},
     "output_type": "execute_result"
    }
   ],
   "source": [
    "cosine_function(df.iloc[0][1],df.iloc[1][1])"
   ]
  },
  {
   "cell_type": "code",
   "execution_count": 9,
   "metadata": {},
   "outputs": [
    {
     "name": "stdout",
     "output_type": "stream",
     "text": [
      "443 µs ± 13.9 µs per loop (mean ± std. dev. of 7 runs, 1000 loops each)\n"
     ]
    }
   ],
   "source": [
    "%timeit cosine_function(df.iloc[0][1],df.iloc[1][1])"
   ]
  },
  {
   "cell_type": "code",
   "execution_count": 10,
   "metadata": {},
   "outputs": [],
   "source": [
    "from scipy.spatial import distance"
   ]
  },
  {
   "cell_type": "code",
   "execution_count": 17,
   "metadata": {},
   "outputs": [
    {
     "name": "stdout",
     "output_type": "stream",
     "text": [
      "170 µs ± 3.44 µs per loop (mean ± std. dev. of 7 runs, 10000 loops each)\n"
     ]
    },
    {
     "data": {
      "text/plain": [
       "1.0225922471738291"
      ]
     },
     "execution_count": 17,
     "metadata": {},
     "output_type": "execute_result"
    }
   ],
   "source": [
    "# using scipy function of distance.cosine\n",
    "%timeit distance.cosine(df.iloc[0][1],df.iloc[1][1])\n",
    "distance.cosine(df.iloc[0][1],df.iloc[1][1])\n"
   ]
  },
  {
   "cell_type": "code",
   "execution_count": 13,
   "metadata": {},
   "outputs": [],
   "source": [
    "from sklearn.metrics import pairwise_distances"
   ]
  },
  {
   "cell_type": "code",
   "execution_count": 18,
   "metadata": {},
   "outputs": [
    {
     "name": "stdout",
     "output_type": "stream",
     "text": [
      "458 µs ± 10.4 µs per loop (mean ± std. dev. of 7 runs, 1000 loops each)\n"
     ]
    },
    {
     "data": {
      "text/plain": [
       "1.0225922471738291"
      ]
     },
     "execution_count": 18,
     "metadata": {},
     "output_type": "execute_result"
    }
   ],
   "source": [
    "# using pairwise similarity\n",
    "%timeit pairwise_distances([df.iloc[0][1],df.iloc[1][1]], metric=\"cosine\")[0][1]\n",
    "pairwise_distances([df.iloc[0][1],df.iloc[1][1]], metric=\"cosine\")[0][1]"
   ]
  },
  {
   "cell_type": "code",
   "execution_count": null,
   "metadata": {},
   "outputs": [],
   "source": []
  }
 ],
 "metadata": {
  "kernelspec": {
   "display_name": "Python 3",
   "language": "python",
   "name": "python3"
  },
  "language_info": {
   "codemirror_mode": {
    "name": "ipython",
    "version": 3
   },
   "file_extension": ".py",
   "mimetype": "text/x-python",
   "name": "python",
   "nbconvert_exporter": "python",
   "pygments_lexer": "ipython3",
   "version": "3.8.5"
  }
 },
 "nbformat": 4,
 "nbformat_minor": 4
}
